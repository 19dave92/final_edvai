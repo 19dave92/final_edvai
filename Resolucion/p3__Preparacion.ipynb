{
 "cells": [
  {
   "cell_type": "code",
   "execution_count": 1,
   "metadata": {},
   "outputs": [],
   "source": [
    "import pandas as pd"
   ]
  },
  {
   "cell_type": "code",
   "execution_count": 2,
   "metadata": {},
   "outputs": [
    {
     "data": {
      "text/html": [
       "<div>\n",
       "<style scoped>\n",
       "    .dataframe tbody tr th:only-of-type {\n",
       "        vertical-align: middle;\n",
       "    }\n",
       "\n",
       "    .dataframe tbody tr th {\n",
       "        vertical-align: top;\n",
       "    }\n",
       "\n",
       "    .dataframe thead th {\n",
       "        text-align: right;\n",
       "    }\n",
       "</style>\n",
       "<table border=\"1\" class=\"dataframe\">\n",
       "  <thead>\n",
       "    <tr style=\"text-align: right;\">\n",
       "      <th></th>\n",
       "      <th>orderAmount</th>\n",
       "      <th>orderState</th>\n",
       "      <th>paymentMethodRegistrationFailure</th>\n",
       "      <th>paymentMethodType</th>\n",
       "      <th>paymentMethodProvider</th>\n",
       "      <th>paymentMethodIssuer</th>\n",
       "      <th>transactionAmount</th>\n",
       "      <th>transactionFailed</th>\n",
       "      <th>fraudulent</th>\n",
       "      <th>emailProvider</th>\n",
       "      <th>emailDomain</th>\n",
       "      <th>customerIPAddressSimplified</th>\n",
       "      <th>sameCity</th>\n",
       "    </tr>\n",
       "  </thead>\n",
       "  <tbody>\n",
       "    <tr>\n",
       "      <th>0</th>\n",
       "      <td>18.0</td>\n",
       "      <td>pending</td>\n",
       "      <td>True</td>\n",
       "      <td>card</td>\n",
       "      <td>JCB 16 digit</td>\n",
       "      <td>Citizens First Banks</td>\n",
       "      <td>18</td>\n",
       "      <td>False</td>\n",
       "      <td>False</td>\n",
       "      <td>yahoo</td>\n",
       "      <td>com</td>\n",
       "      <td>only_letters</td>\n",
       "      <td>yes</td>\n",
       "    </tr>\n",
       "    <tr>\n",
       "      <th>1</th>\n",
       "      <td>26.0</td>\n",
       "      <td>fulfilled</td>\n",
       "      <td>True</td>\n",
       "      <td>bitcoin</td>\n",
       "      <td>VISA 16 digit</td>\n",
       "      <td>Solace Banks</td>\n",
       "      <td>26</td>\n",
       "      <td>False</td>\n",
       "      <td>True</td>\n",
       "      <td>yahoo</td>\n",
       "      <td>com</td>\n",
       "      <td>only_letters</td>\n",
       "      <td>no</td>\n",
       "    </tr>\n",
       "    <tr>\n",
       "      <th>2</th>\n",
       "      <td>45.0</td>\n",
       "      <td>fulfilled</td>\n",
       "      <td>False</td>\n",
       "      <td>card</td>\n",
       "      <td>VISA 16 digit</td>\n",
       "      <td>Vertex Bancorp</td>\n",
       "      <td>45</td>\n",
       "      <td>False</td>\n",
       "      <td>False</td>\n",
       "      <td>yahoo</td>\n",
       "      <td>com</td>\n",
       "      <td>digits_and_letters</td>\n",
       "      <td>no</td>\n",
       "    </tr>\n",
       "    <tr>\n",
       "      <th>3</th>\n",
       "      <td>23.0</td>\n",
       "      <td>fulfilled</td>\n",
       "      <td>False</td>\n",
       "      <td>card</td>\n",
       "      <td>Diners Club / Carte Blanche</td>\n",
       "      <td>His Majesty Bank Corp.</td>\n",
       "      <td>23</td>\n",
       "      <td>False</td>\n",
       "      <td>False</td>\n",
       "      <td>yahoo</td>\n",
       "      <td>com</td>\n",
       "      <td>digits_and_letters</td>\n",
       "      <td>no</td>\n",
       "    </tr>\n",
       "    <tr>\n",
       "      <th>4</th>\n",
       "      <td>43.0</td>\n",
       "      <td>fulfilled</td>\n",
       "      <td>False</td>\n",
       "      <td>card</td>\n",
       "      <td>Mastercard</td>\n",
       "      <td>Vertex Bancorp</td>\n",
       "      <td>43</td>\n",
       "      <td>True</td>\n",
       "      <td>True</td>\n",
       "      <td>other</td>\n",
       "      <td>com</td>\n",
       "      <td>only_letters</td>\n",
       "      <td>no</td>\n",
       "    </tr>\n",
       "    <tr>\n",
       "      <th>...</th>\n",
       "      <td>...</td>\n",
       "      <td>...</td>\n",
       "      <td>...</td>\n",
       "      <td>...</td>\n",
       "      <td>...</td>\n",
       "      <td>...</td>\n",
       "      <td>...</td>\n",
       "      <td>...</td>\n",
       "      <td>...</td>\n",
       "      <td>...</td>\n",
       "      <td>...</td>\n",
       "      <td>...</td>\n",
       "      <td>...</td>\n",
       "    </tr>\n",
       "    <tr>\n",
       "      <th>618</th>\n",
       "      <td>NaN</td>\n",
       "      <td>NaN</td>\n",
       "      <td>NaN</td>\n",
       "      <td>NaN</td>\n",
       "      <td>NaN</td>\n",
       "      <td>NaN</td>\n",
       "      <td>25</td>\n",
       "      <td>True</td>\n",
       "      <td>NaN</td>\n",
       "      <td>weird</td>\n",
       "      <td>weird</td>\n",
       "      <td>only_letters</td>\n",
       "      <td>unknown</td>\n",
       "    </tr>\n",
       "    <tr>\n",
       "      <th>619</th>\n",
       "      <td>NaN</td>\n",
       "      <td>NaN</td>\n",
       "      <td>NaN</td>\n",
       "      <td>NaN</td>\n",
       "      <td>NaN</td>\n",
       "      <td>NaN</td>\n",
       "      <td>25</td>\n",
       "      <td>True</td>\n",
       "      <td>NaN</td>\n",
       "      <td>weird</td>\n",
       "      <td>weird</td>\n",
       "      <td>only_letters</td>\n",
       "      <td>unknown</td>\n",
       "    </tr>\n",
       "    <tr>\n",
       "      <th>620</th>\n",
       "      <td>NaN</td>\n",
       "      <td>NaN</td>\n",
       "      <td>NaN</td>\n",
       "      <td>NaN</td>\n",
       "      <td>NaN</td>\n",
       "      <td>NaN</td>\n",
       "      <td>25</td>\n",
       "      <td>False</td>\n",
       "      <td>NaN</td>\n",
       "      <td>weird</td>\n",
       "      <td>weird</td>\n",
       "      <td>only_letters</td>\n",
       "      <td>unknown</td>\n",
       "    </tr>\n",
       "    <tr>\n",
       "      <th>621</th>\n",
       "      <td>NaN</td>\n",
       "      <td>NaN</td>\n",
       "      <td>NaN</td>\n",
       "      <td>NaN</td>\n",
       "      <td>NaN</td>\n",
       "      <td>NaN</td>\n",
       "      <td>19</td>\n",
       "      <td>False</td>\n",
       "      <td>NaN</td>\n",
       "      <td>weird</td>\n",
       "      <td>weird</td>\n",
       "      <td>only_letters</td>\n",
       "      <td>unknown</td>\n",
       "    </tr>\n",
       "    <tr>\n",
       "      <th>622</th>\n",
       "      <td>NaN</td>\n",
       "      <td>NaN</td>\n",
       "      <td>NaN</td>\n",
       "      <td>NaN</td>\n",
       "      <td>NaN</td>\n",
       "      <td>NaN</td>\n",
       "      <td>27</td>\n",
       "      <td>False</td>\n",
       "      <td>NaN</td>\n",
       "      <td>weird</td>\n",
       "      <td>weird</td>\n",
       "      <td>only_letters</td>\n",
       "      <td>unknown</td>\n",
       "    </tr>\n",
       "  </tbody>\n",
       "</table>\n",
       "<p>623 rows × 13 columns</p>\n",
       "</div>"
      ],
      "text/plain": [
       "     orderAmount orderState paymentMethodRegistrationFailure  \\\n",
       "0           18.0    pending                             True   \n",
       "1           26.0  fulfilled                             True   \n",
       "2           45.0  fulfilled                            False   \n",
       "3           23.0  fulfilled                            False   \n",
       "4           43.0  fulfilled                            False   \n",
       "..           ...        ...                              ...   \n",
       "618          NaN        NaN                              NaN   \n",
       "619          NaN        NaN                              NaN   \n",
       "620          NaN        NaN                              NaN   \n",
       "621          NaN        NaN                              NaN   \n",
       "622          NaN        NaN                              NaN   \n",
       "\n",
       "    paymentMethodType        paymentMethodProvider     paymentMethodIssuer  \\\n",
       "0                card                 JCB 16 digit    Citizens First Banks   \n",
       "1             bitcoin                VISA 16 digit            Solace Banks   \n",
       "2                card                VISA 16 digit          Vertex Bancorp   \n",
       "3                card  Diners Club / Carte Blanche  His Majesty Bank Corp.   \n",
       "4                card                   Mastercard          Vertex Bancorp   \n",
       "..                ...                          ...                     ...   \n",
       "618               NaN                          NaN                     NaN   \n",
       "619               NaN                          NaN                     NaN   \n",
       "620               NaN                          NaN                     NaN   \n",
       "621               NaN                          NaN                     NaN   \n",
       "622               NaN                          NaN                     NaN   \n",
       "\n",
       "     transactionAmount  transactionFailed fraudulent emailProvider  \\\n",
       "0                   18              False      False         yahoo   \n",
       "1                   26              False       True         yahoo   \n",
       "2                   45              False      False         yahoo   \n",
       "3                   23              False      False         yahoo   \n",
       "4                   43               True       True         other   \n",
       "..                 ...                ...        ...           ...   \n",
       "618                 25               True        NaN         weird   \n",
       "619                 25               True        NaN         weird   \n",
       "620                 25              False        NaN         weird   \n",
       "621                 19              False        NaN         weird   \n",
       "622                 27              False        NaN         weird   \n",
       "\n",
       "    emailDomain customerIPAddressSimplified sameCity  \n",
       "0           com                only_letters      yes  \n",
       "1           com                only_letters       no  \n",
       "2           com          digits_and_letters       no  \n",
       "3           com          digits_and_letters       no  \n",
       "4           com                only_letters       no  \n",
       "..          ...                         ...      ...  \n",
       "618       weird                only_letters  unknown  \n",
       "619       weird                only_letters  unknown  \n",
       "620       weird                only_letters  unknown  \n",
       "621       weird                only_letters  unknown  \n",
       "622       weird                only_letters  unknown  \n",
       "\n",
       "[623 rows x 13 columns]"
      ]
     },
     "execution_count": 2,
     "metadata": {},
     "output_type": "execute_result"
    }
   ],
   "source": [
    "data = pd.read_csv(\"../data/customer_dataset.csv\", sep=\",\")\n",
    "\n",
    "data"
   ]
  },
  {
   "cell_type": "markdown",
   "metadata": {},
   "source": [
    "Copiamos el dataframe para evitar modificar el original:"
   ]
  },
  {
   "cell_type": "code",
   "execution_count": 3,
   "metadata": {},
   "outputs": [
    {
     "data": {
      "text/plain": [
       "0      18.0\n",
       "1      26.0\n",
       "2      45.0\n",
       "3      23.0\n",
       "4      43.0\n",
       "       ... \n",
       "618     NaN\n",
       "619     NaN\n",
       "620     NaN\n",
       "621     NaN\n",
       "622     NaN\n",
       "Name: orderAmount, Length: 623, dtype: float64"
      ]
     },
     "execution_count": 3,
     "metadata": {},
     "output_type": "execute_result"
    }
   ],
   "source": [
    "data['orderAmount']"
   ]
  },
  {
   "cell_type": "code",
   "execution_count": 4,
   "metadata": {},
   "outputs": [],
   "source": [
    "test = data.copy()"
   ]
  },
  {
   "cell_type": "markdown",
   "metadata": {},
   "source": [
    "Usamos qcut para CATEGORIZAR la variable 'orderAmount'. Con q=5 establecemos la cantidad de categorias.\n",
    "\n",
    "Nota: con categorizar nos referimos a crear categorias (en este caso desde un valor hasta otro valor) para que en vez de decir \"el valor de 'orderAmount' es X, decimos que el valor de orderAmount para este registro se encuentra en la categoria X. Pasamos de tener multiples valores a tener solo 5 valores posibles. \n",
    "\n",
    "En 'saved_bins_orders' guardamos los puntos de cortes, es decir, cuales son los valores que limitan cada categoria. \n"
   ]
  },
  {
   "cell_type": "code",
   "execution_count": 5,
   "metadata": {},
   "outputs": [],
   "source": [
    "#Categorizamos la variable en cinco grupos y guardamos los puntos de cortes. \n",
    "#Eliminamos los duplicados si los ubiese (duplicates='drop') y retornamos los bins o puntos de corte (retbins=True)\n",
    "#_Al usar retbins el metodo qcut nos devuelve una tupla con las categorias y los puntos de corte. Aprovechamos esto\n",
    "#_para guardarlo en sus respectivas variables\n",
    "data['orderAmount'], saved_bins_order = pd.qcut(data['orderAmount'], q=5, duplicates='drop', retbins=True)"
   ]
  },
  {
   "cell_type": "code",
   "execution_count": 6,
   "metadata": {},
   "outputs": [
    {
     "data": {
      "text/plain": [
       "0      (9.999, 18.4]\n",
       "1       (18.4, 30.0]\n",
       "2       (39.0, 47.0]\n",
       "3       (18.4, 30.0]\n",
       "4       (39.0, 47.0]\n",
       "           ...      \n",
       "618              NaN\n",
       "619              NaN\n",
       "620              NaN\n",
       "621              NaN\n",
       "622              NaN\n",
       "Name: orderAmount, Length: 623, dtype: category\n",
       "Categories (5, interval[float64, right]): [(9.999, 18.4] < (18.4, 30.0] < (30.0, 39.0] < (39.0, 47.0] < (47.0, 353.0]]"
      ]
     },
     "execution_count": 6,
     "metadata": {},
     "output_type": "execute_result"
    }
   ],
   "source": [
    "data['orderAmount']"
   ]
  },
  {
   "cell_type": "code",
   "execution_count": 7,
   "metadata": {},
   "outputs": [
    {
     "data": {
      "text/plain": [
       "array([ 10. ,  18.4,  30. ,  39. ,  47. , 353. ])"
      ]
     },
     "execution_count": 7,
     "metadata": {},
     "output_type": "execute_result"
    }
   ],
   "source": [
    "saved_bins_order"
   ]
  },
  {
   "cell_type": "code",
   "execution_count": 8,
   "metadata": {},
   "outputs": [],
   "source": [
    "import pickle"
   ]
  },
  {
   "cell_type": "code",
   "execution_count": 9,
   "metadata": {},
   "outputs": [],
   "source": [
    "with open('../data/saved_bins_order.pickle', 'wb') as handle:\n",
    "  pickle.dump(saved_bins_order, handle, protocol=pickle.HIGHEST_PROTOCOL)"
   ]
  },
  {
   "cell_type": "markdown",
   "metadata": {},
   "source": [
    "Realizamos el mismo proceso para 'transactionAmount':"
   ]
  },
  {
   "cell_type": "code",
   "execution_count": 10,
   "metadata": {},
   "outputs": [],
   "source": [
    "data['transactionAmount'], saved_bins_order_transactions_amount = pd.qcut(data['transactionAmount'], \n",
    "                                                                          q=4, \n",
    "                                                                          duplicates='drop', \n",
    "                                                                          retbins=True)"
   ]
  },
  {
   "cell_type": "code",
   "execution_count": 11,
   "metadata": {},
   "outputs": [],
   "source": [
    "with open('../data/saved_bins_transaction.pickle', 'wb') as handle:\n",
    "  pickle.dump(saved_bins_order_transactions_amount, handle, protocol=pickle.HIGHEST_PROTOCOL)"
   ]
  },
  {
   "cell_type": "code",
   "execution_count": 12,
   "metadata": {},
   "outputs": [],
   "source": [
    "with open('../data/saved_bins_order.pickle', 'rb') as handle:\n",
    "    new_saved_bins_order = pickle.load(handle)"
   ]
  },
  {
   "cell_type": "code",
   "execution_count": 13,
   "metadata": {},
   "outputs": [],
   "source": [
    "with open('../data/saved_bins_transaction.pickle', 'rb') as handle:\n",
    "    new_saved_bins_transaction = pickle.load(handle)"
   ]
  },
  {
   "cell_type": "code",
   "execution_count": 14,
   "metadata": {},
   "outputs": [],
   "source": [
    "test[\"orderAmount\"] = pd.cut(\n",
    "    test['orderAmount'],\n",
    "    bins=new_saved_bins_order, \n",
    "    include_lowest=True) # importante para que coincidan todos"
   ]
  },
  {
   "cell_type": "code",
   "execution_count": 15,
   "metadata": {},
   "outputs": [],
   "source": [
    "test[\"transactionAmount\"] = pd.cut(\n",
    "    test['transactionAmount'],\n",
    "    bins=new_saved_bins_transaction, \n",
    "    include_lowest=True) # importante para que coincidan todos"
   ]
  },
  {
   "cell_type": "code",
   "execution_count": 16,
   "metadata": {},
   "outputs": [
    {
     "data": {
      "text/html": [
       "<div>\n",
       "<style scoped>\n",
       "    .dataframe tbody tr th:only-of-type {\n",
       "        vertical-align: middle;\n",
       "    }\n",
       "\n",
       "    .dataframe tbody tr th {\n",
       "        vertical-align: top;\n",
       "    }\n",
       "\n",
       "    .dataframe thead th {\n",
       "        text-align: right;\n",
       "    }\n",
       "</style>\n",
       "<table border=\"1\" class=\"dataframe\">\n",
       "  <thead>\n",
       "    <tr style=\"text-align: right;\">\n",
       "      <th></th>\n",
       "      <th>orderAmount</th>\n",
       "      <th>orderState</th>\n",
       "      <th>paymentMethodRegistrationFailure</th>\n",
       "      <th>paymentMethodType</th>\n",
       "      <th>paymentMethodProvider</th>\n",
       "      <th>paymentMethodIssuer</th>\n",
       "      <th>transactionAmount</th>\n",
       "      <th>transactionFailed</th>\n",
       "      <th>fraudulent</th>\n",
       "      <th>emailProvider</th>\n",
       "      <th>emailDomain</th>\n",
       "      <th>customerIPAddressSimplified</th>\n",
       "      <th>sameCity</th>\n",
       "    </tr>\n",
       "  </thead>\n",
       "  <tbody>\n",
       "    <tr>\n",
       "      <th>0</th>\n",
       "      <td>(9.999, 18.4]</td>\n",
       "      <td>pending</td>\n",
       "      <td>True</td>\n",
       "      <td>card</td>\n",
       "      <td>JCB 16 digit</td>\n",
       "      <td>Citizens First Banks</td>\n",
       "      <td>(9.999, 21.0]</td>\n",
       "      <td>False</td>\n",
       "      <td>False</td>\n",
       "      <td>yahoo</td>\n",
       "      <td>com</td>\n",
       "      <td>only_letters</td>\n",
       "      <td>yes</td>\n",
       "    </tr>\n",
       "    <tr>\n",
       "      <th>1</th>\n",
       "      <td>(18.4, 30.0]</td>\n",
       "      <td>fulfilled</td>\n",
       "      <td>True</td>\n",
       "      <td>bitcoin</td>\n",
       "      <td>VISA 16 digit</td>\n",
       "      <td>Solace Banks</td>\n",
       "      <td>(21.0, 34.0]</td>\n",
       "      <td>False</td>\n",
       "      <td>True</td>\n",
       "      <td>yahoo</td>\n",
       "      <td>com</td>\n",
       "      <td>only_letters</td>\n",
       "      <td>no</td>\n",
       "    </tr>\n",
       "    <tr>\n",
       "      <th>2</th>\n",
       "      <td>(39.0, 47.0]</td>\n",
       "      <td>fulfilled</td>\n",
       "      <td>False</td>\n",
       "      <td>card</td>\n",
       "      <td>VISA 16 digit</td>\n",
       "      <td>Vertex Bancorp</td>\n",
       "      <td>(34.0, 45.0]</td>\n",
       "      <td>False</td>\n",
       "      <td>False</td>\n",
       "      <td>yahoo</td>\n",
       "      <td>com</td>\n",
       "      <td>digits_and_letters</td>\n",
       "      <td>no</td>\n",
       "    </tr>\n",
       "  </tbody>\n",
       "</table>\n",
       "</div>"
      ],
      "text/plain": [
       "     orderAmount orderState paymentMethodRegistrationFailure  \\\n",
       "0  (9.999, 18.4]    pending                             True   \n",
       "1   (18.4, 30.0]  fulfilled                             True   \n",
       "2   (39.0, 47.0]  fulfilled                            False   \n",
       "\n",
       "  paymentMethodType paymentMethodProvider   paymentMethodIssuer  \\\n",
       "0              card          JCB 16 digit  Citizens First Banks   \n",
       "1           bitcoin         VISA 16 digit          Solace Banks   \n",
       "2              card         VISA 16 digit        Vertex Bancorp   \n",
       "\n",
       "  transactionAmount  transactionFailed fraudulent emailProvider emailDomain  \\\n",
       "0     (9.999, 21.0]              False      False         yahoo         com   \n",
       "1      (21.0, 34.0]              False       True         yahoo         com   \n",
       "2      (34.0, 45.0]              False      False         yahoo         com   \n",
       "\n",
       "  customerIPAddressSimplified sameCity  \n",
       "0                only_letters      yes  \n",
       "1                only_letters       no  \n",
       "2          digits_and_letters       no  "
      ]
     },
     "execution_count": 16,
     "metadata": {},
     "output_type": "execute_result"
    }
   ],
   "source": [
    "test.head(3)"
   ]
  },
  {
   "cell_type": "code",
   "execution_count": 17,
   "metadata": {},
   "outputs": [
    {
     "data": {
      "text/html": [
       "<div>\n",
       "<style scoped>\n",
       "    .dataframe tbody tr th:only-of-type {\n",
       "        vertical-align: middle;\n",
       "    }\n",
       "\n",
       "    .dataframe tbody tr th {\n",
       "        vertical-align: top;\n",
       "    }\n",
       "\n",
       "    .dataframe thead th {\n",
       "        text-align: right;\n",
       "    }\n",
       "</style>\n",
       "<table border=\"1\" class=\"dataframe\">\n",
       "  <thead>\n",
       "    <tr style=\"text-align: right;\">\n",
       "      <th></th>\n",
       "      <th>orderAmount</th>\n",
       "      <th>orderState</th>\n",
       "      <th>paymentMethodRegistrationFailure</th>\n",
       "      <th>paymentMethodType</th>\n",
       "      <th>paymentMethodProvider</th>\n",
       "      <th>paymentMethodIssuer</th>\n",
       "      <th>transactionAmount</th>\n",
       "      <th>transactionFailed</th>\n",
       "      <th>fraudulent</th>\n",
       "      <th>emailProvider</th>\n",
       "      <th>emailDomain</th>\n",
       "      <th>customerIPAddressSimplified</th>\n",
       "      <th>sameCity</th>\n",
       "    </tr>\n",
       "  </thead>\n",
       "  <tbody>\n",
       "    <tr>\n",
       "      <th>0</th>\n",
       "      <td>(9.999, 18.4]</td>\n",
       "      <td>pending</td>\n",
       "      <td>True</td>\n",
       "      <td>card</td>\n",
       "      <td>JCB 16 digit</td>\n",
       "      <td>Citizens First Banks</td>\n",
       "      <td>(9.999, 21.0]</td>\n",
       "      <td>False</td>\n",
       "      <td>False</td>\n",
       "      <td>yahoo</td>\n",
       "      <td>com</td>\n",
       "      <td>only_letters</td>\n",
       "      <td>yes</td>\n",
       "    </tr>\n",
       "    <tr>\n",
       "      <th>1</th>\n",
       "      <td>(18.4, 30.0]</td>\n",
       "      <td>fulfilled</td>\n",
       "      <td>True</td>\n",
       "      <td>bitcoin</td>\n",
       "      <td>VISA 16 digit</td>\n",
       "      <td>Solace Banks</td>\n",
       "      <td>(21.0, 34.0]</td>\n",
       "      <td>False</td>\n",
       "      <td>True</td>\n",
       "      <td>yahoo</td>\n",
       "      <td>com</td>\n",
       "      <td>only_letters</td>\n",
       "      <td>no</td>\n",
       "    </tr>\n",
       "    <tr>\n",
       "      <th>2</th>\n",
       "      <td>(39.0, 47.0]</td>\n",
       "      <td>fulfilled</td>\n",
       "      <td>False</td>\n",
       "      <td>card</td>\n",
       "      <td>VISA 16 digit</td>\n",
       "      <td>Vertex Bancorp</td>\n",
       "      <td>(34.0, 45.0]</td>\n",
       "      <td>False</td>\n",
       "      <td>False</td>\n",
       "      <td>yahoo</td>\n",
       "      <td>com</td>\n",
       "      <td>digits_and_letters</td>\n",
       "      <td>no</td>\n",
       "    </tr>\n",
       "  </tbody>\n",
       "</table>\n",
       "</div>"
      ],
      "text/plain": [
       "     orderAmount orderState paymentMethodRegistrationFailure  \\\n",
       "0  (9.999, 18.4]    pending                             True   \n",
       "1   (18.4, 30.0]  fulfilled                             True   \n",
       "2   (39.0, 47.0]  fulfilled                            False   \n",
       "\n",
       "  paymentMethodType paymentMethodProvider   paymentMethodIssuer  \\\n",
       "0              card          JCB 16 digit  Citizens First Banks   \n",
       "1           bitcoin         VISA 16 digit          Solace Banks   \n",
       "2              card         VISA 16 digit        Vertex Bancorp   \n",
       "\n",
       "  transactionAmount  transactionFailed fraudulent emailProvider emailDomain  \\\n",
       "0     (9.999, 21.0]              False      False         yahoo         com   \n",
       "1      (21.0, 34.0]              False       True         yahoo         com   \n",
       "2      (34.0, 45.0]              False      False         yahoo         com   \n",
       "\n",
       "  customerIPAddressSimplified sameCity  \n",
       "0                only_letters      yes  \n",
       "1                only_letters       no  \n",
       "2          digits_and_letters       no  "
      ]
     },
     "execution_count": 17,
     "metadata": {},
     "output_type": "execute_result"
    }
   ],
   "source": [
    "data.head(3)"
   ]
  },
  {
   "cell_type": "code",
   "execution_count": 18,
   "metadata": {},
   "outputs": [
    {
     "data": {
      "text/html": [
       "<div>\n",
       "<style scoped>\n",
       "    .dataframe tbody tr th:only-of-type {\n",
       "        vertical-align: middle;\n",
       "    }\n",
       "\n",
       "    .dataframe tbody tr th {\n",
       "        vertical-align: top;\n",
       "    }\n",
       "\n",
       "    .dataframe thead th {\n",
       "        text-align: right;\n",
       "    }\n",
       "</style>\n",
       "<table border=\"1\" class=\"dataframe\">\n",
       "  <thead>\n",
       "    <tr style=\"text-align: right;\">\n",
       "      <th></th>\n",
       "      <th>orderAmount</th>\n",
       "      <th>frequency</th>\n",
       "      <th>percentage</th>\n",
       "      <th>cumulative_perc</th>\n",
       "    </tr>\n",
       "  </thead>\n",
       "  <tbody>\n",
       "    <tr>\n",
       "      <th>0</th>\n",
       "      <td>(30.0, 39.0]</td>\n",
       "      <td>98</td>\n",
       "      <td>0.157303</td>\n",
       "      <td>0.205021</td>\n",
       "    </tr>\n",
       "    <tr>\n",
       "      <th>1</th>\n",
       "      <td>(39.0, 47.0]</td>\n",
       "      <td>97</td>\n",
       "      <td>0.155698</td>\n",
       "      <td>0.407950</td>\n",
       "    </tr>\n",
       "    <tr>\n",
       "      <th>2</th>\n",
       "      <td>(9.999, 18.4]</td>\n",
       "      <td>96</td>\n",
       "      <td>0.154093</td>\n",
       "      <td>0.608787</td>\n",
       "    </tr>\n",
       "    <tr>\n",
       "      <th>3</th>\n",
       "      <td>(18.4, 30.0]</td>\n",
       "      <td>96</td>\n",
       "      <td>0.154093</td>\n",
       "      <td>0.809623</td>\n",
       "    </tr>\n",
       "    <tr>\n",
       "      <th>4</th>\n",
       "      <td>(47.0, 353.0]</td>\n",
       "      <td>91</td>\n",
       "      <td>0.146067</td>\n",
       "      <td>1.000000</td>\n",
       "    </tr>\n",
       "  </tbody>\n",
       "</table>\n",
       "</div>"
      ],
      "text/plain": [
       "     orderAmount  frequency  percentage  cumulative_perc\n",
       "0   (30.0, 39.0]         98    0.157303         0.205021\n",
       "1   (39.0, 47.0]         97    0.155698         0.407950\n",
       "2  (9.999, 18.4]         96    0.154093         0.608787\n",
       "3   (18.4, 30.0]         96    0.154093         0.809623\n",
       "4  (47.0, 353.0]         91    0.146067         1.000000"
      ]
     },
     "execution_count": 18,
     "metadata": {},
     "output_type": "execute_result"
    }
   ],
   "source": [
    "from funpymodeling import freq_tbl\n",
    "\n",
    "freq_tbl(test['orderAmount'])"
   ]
  },
  {
   "cell_type": "code",
   "execution_count": 19,
   "metadata": {},
   "outputs": [
    {
     "data": {
      "text/html": [
       "<div>\n",
       "<style scoped>\n",
       "    .dataframe tbody tr th:only-of-type {\n",
       "        vertical-align: middle;\n",
       "    }\n",
       "\n",
       "    .dataframe tbody tr th {\n",
       "        vertical-align: top;\n",
       "    }\n",
       "\n",
       "    .dataframe thead th {\n",
       "        text-align: right;\n",
       "    }\n",
       "</style>\n",
       "<table border=\"1\" class=\"dataframe\">\n",
       "  <thead>\n",
       "    <tr style=\"text-align: right;\">\n",
       "      <th></th>\n",
       "      <th>orderAmount</th>\n",
       "      <th>frequency</th>\n",
       "      <th>percentage</th>\n",
       "      <th>cumulative_perc</th>\n",
       "    </tr>\n",
       "  </thead>\n",
       "  <tbody>\n",
       "    <tr>\n",
       "      <th>0</th>\n",
       "      <td>(30.0, 39.0]</td>\n",
       "      <td>98</td>\n",
       "      <td>0.157303</td>\n",
       "      <td>0.205021</td>\n",
       "    </tr>\n",
       "    <tr>\n",
       "      <th>1</th>\n",
       "      <td>(39.0, 47.0]</td>\n",
       "      <td>97</td>\n",
       "      <td>0.155698</td>\n",
       "      <td>0.407950</td>\n",
       "    </tr>\n",
       "    <tr>\n",
       "      <th>2</th>\n",
       "      <td>(9.999, 18.4]</td>\n",
       "      <td>96</td>\n",
       "      <td>0.154093</td>\n",
       "      <td>0.608787</td>\n",
       "    </tr>\n",
       "    <tr>\n",
       "      <th>3</th>\n",
       "      <td>(18.4, 30.0]</td>\n",
       "      <td>96</td>\n",
       "      <td>0.154093</td>\n",
       "      <td>0.809623</td>\n",
       "    </tr>\n",
       "    <tr>\n",
       "      <th>4</th>\n",
       "      <td>(47.0, 353.0]</td>\n",
       "      <td>91</td>\n",
       "      <td>0.146067</td>\n",
       "      <td>1.000000</td>\n",
       "    </tr>\n",
       "  </tbody>\n",
       "</table>\n",
       "</div>"
      ],
      "text/plain": [
       "     orderAmount  frequency  percentage  cumulative_perc\n",
       "0   (30.0, 39.0]         98    0.157303         0.205021\n",
       "1   (39.0, 47.0]         97    0.155698         0.407950\n",
       "2  (9.999, 18.4]         96    0.154093         0.608787\n",
       "3   (18.4, 30.0]         96    0.154093         0.809623\n",
       "4  (47.0, 353.0]         91    0.146067         1.000000"
      ]
     },
     "execution_count": 19,
     "metadata": {},
     "output_type": "execute_result"
    }
   ],
   "source": [
    "freq_tbl(data['orderAmount'])"
   ]
  },
  {
   "cell_type": "markdown",
   "metadata": {},
   "source": [
    "# 4) Preparacion de datos"
   ]
  },
  {
   "cell_type": "markdown",
   "metadata": {},
   "source": [
    "status(data[])"
   ]
  },
  {
   "cell_type": "code",
   "execution_count": 20,
   "metadata": {},
   "outputs": [
    {
     "data": {
      "text/html": [
       "<div>\n",
       "<style scoped>\n",
       "    .dataframe tbody tr th:only-of-type {\n",
       "        vertical-align: middle;\n",
       "    }\n",
       "\n",
       "    .dataframe tbody tr th {\n",
       "        vertical-align: top;\n",
       "    }\n",
       "\n",
       "    .dataframe thead th {\n",
       "        text-align: right;\n",
       "    }\n",
       "</style>\n",
       "<table border=\"1\" class=\"dataframe\">\n",
       "  <thead>\n",
       "    <tr style=\"text-align: right;\">\n",
       "      <th></th>\n",
       "      <th>variable</th>\n",
       "      <th>q_nan</th>\n",
       "      <th>p_nan</th>\n",
       "      <th>q_zeros</th>\n",
       "      <th>p_zeros</th>\n",
       "      <th>unique</th>\n",
       "      <th>type</th>\n",
       "    </tr>\n",
       "  </thead>\n",
       "  <tbody>\n",
       "    <tr>\n",
       "      <th>0</th>\n",
       "      <td>paymentMethodIssuer</td>\n",
       "      <td>281</td>\n",
       "      <td>0.451043</td>\n",
       "      <td>0</td>\n",
       "      <td>0.0</td>\n",
       "      <td>20</td>\n",
       "      <td>object</td>\n",
       "    </tr>\n",
       "  </tbody>\n",
       "</table>\n",
       "</div>"
      ],
      "text/plain": [
       "              variable  q_nan     p_nan  q_zeros  p_zeros  unique    type\n",
       "0  paymentMethodIssuer    281  0.451043        0      0.0      20  object"
      ]
     },
     "execution_count": 20,
     "metadata": {},
     "output_type": "execute_result"
    }
   ],
   "source": [
    "from funpymodeling import status\n",
    "status(data['paymentMethodIssuer'])"
   ]
  },
  {
   "cell_type": "code",
   "execution_count": 21,
   "metadata": {},
   "outputs": [
    {
     "data": {
      "text/html": [
       "<div>\n",
       "<style scoped>\n",
       "    .dataframe tbody tr th:only-of-type {\n",
       "        vertical-align: middle;\n",
       "    }\n",
       "\n",
       "    .dataframe tbody tr th {\n",
       "        vertical-align: top;\n",
       "    }\n",
       "\n",
       "    .dataframe thead th {\n",
       "        text-align: right;\n",
       "    }\n",
       "</style>\n",
       "<table border=\"1\" class=\"dataframe\">\n",
       "  <thead>\n",
       "    <tr style=\"text-align: right;\">\n",
       "      <th></th>\n",
       "      <th>paymentMethodIssuer</th>\n",
       "      <th>frequency</th>\n",
       "      <th>percentage</th>\n",
       "      <th>cumulative_perc</th>\n",
       "    </tr>\n",
       "  </thead>\n",
       "  <tbody>\n",
       "    <tr>\n",
       "      <th>0</th>\n",
       "      <td>Her Majesty Trust</td>\n",
       "      <td>43</td>\n",
       "      <td>0.069021</td>\n",
       "      <td>0.125731</td>\n",
       "    </tr>\n",
       "    <tr>\n",
       "      <th>1</th>\n",
       "      <td>Vertex Bancorp</td>\n",
       "      <td>37</td>\n",
       "      <td>0.059390</td>\n",
       "      <td>0.233918</td>\n",
       "    </tr>\n",
       "    <tr>\n",
       "      <th>2</th>\n",
       "      <td>Fountain Financial Inc.</td>\n",
       "      <td>35</td>\n",
       "      <td>0.056180</td>\n",
       "      <td>0.336257</td>\n",
       "    </tr>\n",
       "    <tr>\n",
       "      <th>3</th>\n",
       "      <td>His Majesty Bank Corp.</td>\n",
       "      <td>33</td>\n",
       "      <td>0.052970</td>\n",
       "      <td>0.432749</td>\n",
       "    </tr>\n",
       "    <tr>\n",
       "      <th>4</th>\n",
       "      <td>Bastion Banks</td>\n",
       "      <td>29</td>\n",
       "      <td>0.046549</td>\n",
       "      <td>0.517544</td>\n",
       "    </tr>\n",
       "    <tr>\n",
       "      <th>5</th>\n",
       "      <td>Bulwark Trust Corp.</td>\n",
       "      <td>29</td>\n",
       "      <td>0.046549</td>\n",
       "      <td>0.602339</td>\n",
       "    </tr>\n",
       "    <tr>\n",
       "      <th>6</th>\n",
       "      <td>Citizens First Banks</td>\n",
       "      <td>28</td>\n",
       "      <td>0.044944</td>\n",
       "      <td>0.684211</td>\n",
       "    </tr>\n",
       "    <tr>\n",
       "      <th>7</th>\n",
       "      <td>Grand Credit Corporation</td>\n",
       "      <td>27</td>\n",
       "      <td>0.043339</td>\n",
       "      <td>0.763158</td>\n",
       "    </tr>\n",
       "    <tr>\n",
       "      <th>8</th>\n",
       "      <td>Solace Banks</td>\n",
       "      <td>27</td>\n",
       "      <td>0.043339</td>\n",
       "      <td>0.842105</td>\n",
       "    </tr>\n",
       "    <tr>\n",
       "      <th>9</th>\n",
       "      <td>Rose Bancshares</td>\n",
       "      <td>25</td>\n",
       "      <td>0.040128</td>\n",
       "      <td>0.915205</td>\n",
       "    </tr>\n",
       "    <tr>\n",
       "      <th>10</th>\n",
       "      <td>B</td>\n",
       "      <td>7</td>\n",
       "      <td>0.011236</td>\n",
       "      <td>0.935673</td>\n",
       "    </tr>\n",
       "    <tr>\n",
       "      <th>11</th>\n",
       "      <td>e</td>\n",
       "      <td>5</td>\n",
       "      <td>0.008026</td>\n",
       "      <td>0.950292</td>\n",
       "    </tr>\n",
       "    <tr>\n",
       "      <th>12</th>\n",
       "      <td>c</td>\n",
       "      <td>4</td>\n",
       "      <td>0.006421</td>\n",
       "      <td>0.961988</td>\n",
       "    </tr>\n",
       "    <tr>\n",
       "      <th>13</th>\n",
       "      <td>r</td>\n",
       "      <td>3</td>\n",
       "      <td>0.004815</td>\n",
       "      <td>0.970760</td>\n",
       "    </tr>\n",
       "    <tr>\n",
       "      <th>14</th>\n",
       "      <td></td>\n",
       "      <td>2</td>\n",
       "      <td>0.003210</td>\n",
       "      <td>0.976608</td>\n",
       "    </tr>\n",
       "    <tr>\n",
       "      <th>15</th>\n",
       "      <td>n</td>\n",
       "      <td>2</td>\n",
       "      <td>0.003210</td>\n",
       "      <td>0.982456</td>\n",
       "    </tr>\n",
       "    <tr>\n",
       "      <th>16</th>\n",
       "      <td>x</td>\n",
       "      <td>2</td>\n",
       "      <td>0.003210</td>\n",
       "      <td>0.988304</td>\n",
       "    </tr>\n",
       "    <tr>\n",
       "      <th>17</th>\n",
       "      <td>o</td>\n",
       "      <td>2</td>\n",
       "      <td>0.003210</td>\n",
       "      <td>0.994152</td>\n",
       "    </tr>\n",
       "    <tr>\n",
       "      <th>18</th>\n",
       "      <td>a</td>\n",
       "      <td>1</td>\n",
       "      <td>0.001605</td>\n",
       "      <td>0.997076</td>\n",
       "    </tr>\n",
       "    <tr>\n",
       "      <th>19</th>\n",
       "      <td>p</td>\n",
       "      <td>1</td>\n",
       "      <td>0.001605</td>\n",
       "      <td>1.000000</td>\n",
       "    </tr>\n",
       "  </tbody>\n",
       "</table>\n",
       "</div>"
      ],
      "text/plain": [
       "         paymentMethodIssuer  frequency  percentage  cumulative_perc\n",
       "0          Her Majesty Trust         43    0.069021         0.125731\n",
       "1             Vertex Bancorp         37    0.059390         0.233918\n",
       "2    Fountain Financial Inc.         35    0.056180         0.336257\n",
       "3     His Majesty Bank Corp.         33    0.052970         0.432749\n",
       "4              Bastion Banks         29    0.046549         0.517544\n",
       "5        Bulwark Trust Corp.         29    0.046549         0.602339\n",
       "6       Citizens First Banks         28    0.044944         0.684211\n",
       "7   Grand Credit Corporation         27    0.043339         0.763158\n",
       "8               Solace Banks         27    0.043339         0.842105\n",
       "9            Rose Bancshares         25    0.040128         0.915205\n",
       "10                         B          7    0.011236         0.935673\n",
       "11                         e          5    0.008026         0.950292\n",
       "12                         c          4    0.006421         0.961988\n",
       "13                         r          3    0.004815         0.970760\n",
       "14                                    2    0.003210         0.976608\n",
       "15                         n          2    0.003210         0.982456\n",
       "16                         x          2    0.003210         0.988304\n",
       "17                         o          2    0.003210         0.994152\n",
       "18                         a          1    0.001605         0.997076\n",
       "19                         p          1    0.001605         1.000000"
      ]
     },
     "execution_count": 21,
     "metadata": {},
     "output_type": "execute_result"
    }
   ],
   "source": [
    "freq_tbl(data['paymentMethodIssuer'])"
   ]
  },
  {
   "cell_type": "markdown",
   "metadata": {},
   "source": [
    "Dado que 'paymentMethodIssuer' es una variable categórica, utilizamos el metodo 'value_counts()' de pandas (podemos usar tambien 'freq_tbl') para verificar la cantidad de registros que pertenecen a cada categoria y ademas visualizar el total de categorias:"
   ]
  },
  {
   "cell_type": "code",
   "execution_count": 22,
   "metadata": {},
   "outputs": [
    {
     "data": {
      "text/plain": [
       "paymentMethodIssuer\n",
       "Her Majesty Trust           43\n",
       "Vertex Bancorp              37\n",
       "Fountain Financial Inc.     35\n",
       "His Majesty Bank Corp.      33\n",
       "Bastion Banks               29\n",
       "Bulwark Trust Corp.         29\n",
       "Citizens First Banks        28\n",
       "Grand Credit Corporation    27\n",
       "Solace Banks                27\n",
       "Rose Bancshares             25\n",
       "B                            7\n",
       "e                            5\n",
       "c                            4\n",
       "r                            3\n",
       "                             2\n",
       "n                            2\n",
       "x                            2\n",
       "o                            2\n",
       "a                            1\n",
       "p                            1\n",
       "Name: count, dtype: int64"
      ]
     },
     "execution_count": 22,
     "metadata": {},
     "output_type": "execute_result"
    }
   ],
   "source": [
    "data['paymentMethodIssuer'].value_counts()"
   ]
  },
  {
   "cell_type": "markdown",
   "metadata": {},
   "source": [
    "Observamos que hay muchos valores que no dan información específica, agruparemos todos esos registros en una nueva categoría llamada 'weird':"
   ]
  },
  {
   "cell_type": "code",
   "execution_count": 23,
   "metadata": {},
   "outputs": [],
   "source": [
    "#Reemplazamos un valor a la vez:\n",
    "metodo_pago_desconocido = [\"B\",\"e\",\"c\",\"r\",\" \",\"n\",\"x\",\"o\",\"a\",\"p\"]\n",
    "\n",
    "for metodo_pago in metodo_pago_desconocido:\n",
    "    data['paymentMethodIssuer'] = data['paymentMethodIssuer'].replace(metodo_pago, 'weird')"
   ]
  },
  {
   "cell_type": "code",
   "execution_count": 24,
   "metadata": {},
   "outputs": [
    {
     "data": {
      "text/plain": [
       "paymentMethodIssuer\n",
       "Her Majesty Trust           43\n",
       "Vertex Bancorp              37\n",
       "Fountain Financial Inc.     35\n",
       "His Majesty Bank Corp.      33\n",
       "Bastion Banks               29\n",
       "weird                       29\n",
       "Bulwark Trust Corp.         29\n",
       "Citizens First Banks        28\n",
       "Solace Banks                27\n",
       "Grand Credit Corporation    27\n",
       "Rose Bancshares             25\n",
       "Name: count, dtype: int64"
      ]
     },
     "execution_count": 24,
     "metadata": {},
     "output_type": "execute_result"
    }
   ],
   "source": [
    "data['paymentMethodIssuer'].value_counts()"
   ]
  },
  {
   "cell_type": "markdown",
   "metadata": {},
   "source": [
    "Repetimos el proceso para las variables 'paymentMethodProvider' y 'paymentMethodType':\n",
    "\n",
    "paymentMethodProvider:"
   ]
  },
  {
   "cell_type": "code",
   "execution_count": 25,
   "metadata": {},
   "outputs": [
    {
     "data": {
      "text/plain": [
       "paymentMethodProvider\n",
       "JCB 16 digit                   65\n",
       "VISA 16 digit                  57\n",
       "Voyager                        36\n",
       "Diners Club / Carte Blanche    34\n",
       "Maestro                        32\n",
       "VISA 13 digit                  32\n",
       "Discover                       25\n",
       "American Express               22\n",
       "JCB 15 digit                   20\n",
       "Mastercard                     19\n",
       "Name: count, dtype: int64"
      ]
     },
     "execution_count": 25,
     "metadata": {},
     "output_type": "execute_result"
    }
   ],
   "source": [
    "data['paymentMethodProvider'].value_counts()"
   ]
  },
  {
   "cell_type": "markdown",
   "metadata": {},
   "source": [
    "paymentMethodType:"
   ]
  },
  {
   "cell_type": "code",
   "execution_count": 26,
   "metadata": {},
   "outputs": [
    {
     "data": {
      "text/plain": [
       "paymentMethodType\n",
       "card         242\n",
       "apple pay     36\n",
       "paypal        36\n",
       "bitcoin       28\n",
       "Name: count, dtype: int64"
      ]
     },
     "execution_count": 26,
     "metadata": {},
     "output_type": "execute_result"
    }
   ],
   "source": [
    "data['paymentMethodType'].value_counts()"
   ]
  },
  {
   "cell_type": "code",
   "execution_count": 27,
   "metadata": {},
   "outputs": [
    {
     "data": {
      "text/html": [
       "<div>\n",
       "<style scoped>\n",
       "    .dataframe tbody tr th:only-of-type {\n",
       "        vertical-align: middle;\n",
       "    }\n",
       "\n",
       "    .dataframe tbody tr th {\n",
       "        vertical-align: top;\n",
       "    }\n",
       "\n",
       "    .dataframe thead th {\n",
       "        text-align: right;\n",
       "    }\n",
       "</style>\n",
       "<table border=\"1\" class=\"dataframe\">\n",
       "  <thead>\n",
       "    <tr style=\"text-align: right;\">\n",
       "      <th></th>\n",
       "      <th>variable</th>\n",
       "      <th>q_nan</th>\n",
       "      <th>p_nan</th>\n",
       "      <th>q_zeros</th>\n",
       "      <th>p_zeros</th>\n",
       "      <th>unique</th>\n",
       "      <th>type</th>\n",
       "    </tr>\n",
       "  </thead>\n",
       "  <tbody>\n",
       "    <tr>\n",
       "      <th>0</th>\n",
       "      <td>orderAmount</td>\n",
       "      <td>145</td>\n",
       "      <td>0.232745</td>\n",
       "      <td>0</td>\n",
       "      <td>0.000000</td>\n",
       "      <td>5</td>\n",
       "      <td>category</td>\n",
       "    </tr>\n",
       "    <tr>\n",
       "      <th>1</th>\n",
       "      <td>orderState</td>\n",
       "      <td>145</td>\n",
       "      <td>0.232745</td>\n",
       "      <td>0</td>\n",
       "      <td>0.000000</td>\n",
       "      <td>3</td>\n",
       "      <td>object</td>\n",
       "    </tr>\n",
       "    <tr>\n",
       "      <th>2</th>\n",
       "      <td>paymentMethodRegistrationFailure</td>\n",
       "      <td>281</td>\n",
       "      <td>0.451043</td>\n",
       "      <td>302</td>\n",
       "      <td>0.484751</td>\n",
       "      <td>2</td>\n",
       "      <td>object</td>\n",
       "    </tr>\n",
       "    <tr>\n",
       "      <th>3</th>\n",
       "      <td>paymentMethodType</td>\n",
       "      <td>281</td>\n",
       "      <td>0.451043</td>\n",
       "      <td>0</td>\n",
       "      <td>0.000000</td>\n",
       "      <td>4</td>\n",
       "      <td>object</td>\n",
       "    </tr>\n",
       "    <tr>\n",
       "      <th>4</th>\n",
       "      <td>paymentMethodProvider</td>\n",
       "      <td>281</td>\n",
       "      <td>0.451043</td>\n",
       "      <td>0</td>\n",
       "      <td>0.000000</td>\n",
       "      <td>10</td>\n",
       "      <td>object</td>\n",
       "    </tr>\n",
       "    <tr>\n",
       "      <th>5</th>\n",
       "      <td>paymentMethodIssuer</td>\n",
       "      <td>281</td>\n",
       "      <td>0.451043</td>\n",
       "      <td>0</td>\n",
       "      <td>0.000000</td>\n",
       "      <td>11</td>\n",
       "      <td>object</td>\n",
       "    </tr>\n",
       "    <tr>\n",
       "      <th>6</th>\n",
       "      <td>transactionAmount</td>\n",
       "      <td>0</td>\n",
       "      <td>0.000000</td>\n",
       "      <td>0</td>\n",
       "      <td>0.000000</td>\n",
       "      <td>4</td>\n",
       "      <td>category</td>\n",
       "    </tr>\n",
       "    <tr>\n",
       "      <th>7</th>\n",
       "      <td>transactionFailed</td>\n",
       "      <td>0</td>\n",
       "      <td>0.000000</td>\n",
       "      <td>455</td>\n",
       "      <td>0.730337</td>\n",
       "      <td>2</td>\n",
       "      <td>bool</td>\n",
       "    </tr>\n",
       "    <tr>\n",
       "      <th>8</th>\n",
       "      <td>fraudulent</td>\n",
       "      <td>455</td>\n",
       "      <td>0.730337</td>\n",
       "      <td>107</td>\n",
       "      <td>0.171750</td>\n",
       "      <td>2</td>\n",
       "      <td>object</td>\n",
       "    </tr>\n",
       "    <tr>\n",
       "      <th>9</th>\n",
       "      <td>emailProvider</td>\n",
       "      <td>0</td>\n",
       "      <td>0.000000</td>\n",
       "      <td>0</td>\n",
       "      <td>0.000000</td>\n",
       "      <td>5</td>\n",
       "      <td>object</td>\n",
       "    </tr>\n",
       "    <tr>\n",
       "      <th>10</th>\n",
       "      <td>emailDomain</td>\n",
       "      <td>0</td>\n",
       "      <td>0.000000</td>\n",
       "      <td>0</td>\n",
       "      <td>0.000000</td>\n",
       "      <td>6</td>\n",
       "      <td>object</td>\n",
       "    </tr>\n",
       "    <tr>\n",
       "      <th>11</th>\n",
       "      <td>customerIPAddressSimplified</td>\n",
       "      <td>0</td>\n",
       "      <td>0.000000</td>\n",
       "      <td>0</td>\n",
       "      <td>0.000000</td>\n",
       "      <td>2</td>\n",
       "      <td>object</td>\n",
       "    </tr>\n",
       "    <tr>\n",
       "      <th>12</th>\n",
       "      <td>sameCity</td>\n",
       "      <td>0</td>\n",
       "      <td>0.000000</td>\n",
       "      <td>0</td>\n",
       "      <td>0.000000</td>\n",
       "      <td>3</td>\n",
       "      <td>object</td>\n",
       "    </tr>\n",
       "  </tbody>\n",
       "</table>\n",
       "</div>"
      ],
      "text/plain": [
       "                            variable  q_nan     p_nan  q_zeros   p_zeros  \\\n",
       "0                        orderAmount    145  0.232745        0  0.000000   \n",
       "1                         orderState    145  0.232745        0  0.000000   \n",
       "2   paymentMethodRegistrationFailure    281  0.451043      302  0.484751   \n",
       "3                  paymentMethodType    281  0.451043        0  0.000000   \n",
       "4              paymentMethodProvider    281  0.451043        0  0.000000   \n",
       "5                paymentMethodIssuer    281  0.451043        0  0.000000   \n",
       "6                  transactionAmount      0  0.000000        0  0.000000   \n",
       "7                  transactionFailed      0  0.000000      455  0.730337   \n",
       "8                         fraudulent    455  0.730337      107  0.171750   \n",
       "9                      emailProvider      0  0.000000        0  0.000000   \n",
       "10                       emailDomain      0  0.000000        0  0.000000   \n",
       "11       customerIPAddressSimplified      0  0.000000        0  0.000000   \n",
       "12                          sameCity      0  0.000000        0  0.000000   \n",
       "\n",
       "    unique      type  \n",
       "0        5  category  \n",
       "1        3    object  \n",
       "2        2    object  \n",
       "3        4    object  \n",
       "4       10    object  \n",
       "5       11    object  \n",
       "6        4  category  \n",
       "7        2      bool  \n",
       "8        2    object  \n",
       "9        5    object  \n",
       "10       6    object  \n",
       "11       2    object  \n",
       "12       3    object  "
      ]
     },
     "execution_count": 27,
     "metadata": {},
     "output_type": "execute_result"
    }
   ],
   "source": [
    "status(data)"
   ]
  },
  {
   "cell_type": "markdown",
   "metadata": {},
   "source": [
    "fraudulent:"
   ]
  },
  {
   "cell_type": "markdown",
   "metadata": {},
   "source": [
    "Rellenamos los valores nulos de la variable 'fraudulent' con 'warning':"
   ]
  },
  {
   "cell_type": "code",
   "execution_count": 28,
   "metadata": {},
   "outputs": [
    {
     "data": {
      "text/plain": [
       "fraudulent\n",
       "False    107\n",
       "True      61\n",
       "Name: count, dtype: int64"
      ]
     },
     "execution_count": 28,
     "metadata": {},
     "output_type": "execute_result"
    }
   ],
   "source": [
    "data['fraudulent'].value_counts()"
   ]
  },
  {
   "cell_type": "code",
   "execution_count": 29,
   "metadata": {},
   "outputs": [],
   "source": [
    "data['fraudulent'] = data['fraudulent'].fillna(value='warning')"
   ]
  },
  {
   "cell_type": "code",
   "execution_count": 30,
   "metadata": {},
   "outputs": [
    {
     "data": {
      "text/plain": [
       "fraudulent\n",
       "warning    455\n",
       "False      107\n",
       "True        61\n",
       "Name: count, dtype: int64"
      ]
     },
     "execution_count": 30,
     "metadata": {},
     "output_type": "execute_result"
    }
   ],
   "source": [
    "data['fraudulent'].value_counts()"
   ]
  },
  {
   "cell_type": "markdown",
   "metadata": {},
   "source": [
    "La variable 'fraudulent' contiene valores booleanos, al agregar la categoria 'warning' estamos añadiendo tambien un nuevo tipo (str). Para solucionar este conflicto de tipos vamos a convertir todos los tipos de la variable a 'str' para posteriormente asignarle un numero a cada categoria:"
   ]
  },
  {
   "cell_type": "code",
   "execution_count": 31,
   "metadata": {},
   "outputs": [
    {
     "data": {
      "text/html": [
       "<div>\n",
       "<style scoped>\n",
       "    .dataframe tbody tr th:only-of-type {\n",
       "        vertical-align: middle;\n",
       "    }\n",
       "\n",
       "    .dataframe tbody tr th {\n",
       "        vertical-align: top;\n",
       "    }\n",
       "\n",
       "    .dataframe thead th {\n",
       "        text-align: right;\n",
       "    }\n",
       "</style>\n",
       "<table border=\"1\" class=\"dataframe\">\n",
       "  <thead>\n",
       "    <tr style=\"text-align: right;\">\n",
       "      <th></th>\n",
       "      <th>orderAmount</th>\n",
       "      <th>orderState</th>\n",
       "      <th>paymentMethodRegistrationFailure</th>\n",
       "      <th>paymentMethodType</th>\n",
       "      <th>paymentMethodProvider</th>\n",
       "      <th>paymentMethodIssuer</th>\n",
       "      <th>transactionAmount</th>\n",
       "      <th>transactionFailed</th>\n",
       "      <th>fraudulent</th>\n",
       "      <th>emailProvider</th>\n",
       "      <th>emailDomain</th>\n",
       "      <th>customerIPAddressSimplified</th>\n",
       "      <th>sameCity</th>\n",
       "    </tr>\n",
       "  </thead>\n",
       "  <tbody>\n",
       "    <tr>\n",
       "      <th>0</th>\n",
       "      <td>(9.999, 18.4]</td>\n",
       "      <td>pending</td>\n",
       "      <td>True</td>\n",
       "      <td>card</td>\n",
       "      <td>JCB 16 digit</td>\n",
       "      <td>Citizens First Banks</td>\n",
       "      <td>(9.999, 21.0]</td>\n",
       "      <td>False</td>\n",
       "      <td>0</td>\n",
       "      <td>yahoo</td>\n",
       "      <td>com</td>\n",
       "      <td>only_letters</td>\n",
       "      <td>yes</td>\n",
       "    </tr>\n",
       "    <tr>\n",
       "      <th>1</th>\n",
       "      <td>(18.4, 30.0]</td>\n",
       "      <td>fulfilled</td>\n",
       "      <td>True</td>\n",
       "      <td>bitcoin</td>\n",
       "      <td>VISA 16 digit</td>\n",
       "      <td>Solace Banks</td>\n",
       "      <td>(21.0, 34.0]</td>\n",
       "      <td>False</td>\n",
       "      <td>1</td>\n",
       "      <td>yahoo</td>\n",
       "      <td>com</td>\n",
       "      <td>only_letters</td>\n",
       "      <td>no</td>\n",
       "    </tr>\n",
       "    <tr>\n",
       "      <th>2</th>\n",
       "      <td>(39.0, 47.0]</td>\n",
       "      <td>fulfilled</td>\n",
       "      <td>False</td>\n",
       "      <td>card</td>\n",
       "      <td>VISA 16 digit</td>\n",
       "      <td>Vertex Bancorp</td>\n",
       "      <td>(34.0, 45.0]</td>\n",
       "      <td>False</td>\n",
       "      <td>0</td>\n",
       "      <td>yahoo</td>\n",
       "      <td>com</td>\n",
       "      <td>digits_and_letters</td>\n",
       "      <td>no</td>\n",
       "    </tr>\n",
       "    <tr>\n",
       "      <th>3</th>\n",
       "      <td>(18.4, 30.0]</td>\n",
       "      <td>fulfilled</td>\n",
       "      <td>False</td>\n",
       "      <td>card</td>\n",
       "      <td>Diners Club / Carte Blanche</td>\n",
       "      <td>His Majesty Bank Corp.</td>\n",
       "      <td>(21.0, 34.0]</td>\n",
       "      <td>False</td>\n",
       "      <td>0</td>\n",
       "      <td>yahoo</td>\n",
       "      <td>com</td>\n",
       "      <td>digits_and_letters</td>\n",
       "      <td>no</td>\n",
       "    </tr>\n",
       "    <tr>\n",
       "      <th>4</th>\n",
       "      <td>(39.0, 47.0]</td>\n",
       "      <td>fulfilled</td>\n",
       "      <td>False</td>\n",
       "      <td>card</td>\n",
       "      <td>Mastercard</td>\n",
       "      <td>Vertex Bancorp</td>\n",
       "      <td>(34.0, 45.0]</td>\n",
       "      <td>True</td>\n",
       "      <td>1</td>\n",
       "      <td>other</td>\n",
       "      <td>com</td>\n",
       "      <td>only_letters</td>\n",
       "      <td>no</td>\n",
       "    </tr>\n",
       "  </tbody>\n",
       "</table>\n",
       "</div>"
      ],
      "text/plain": [
       "     orderAmount orderState paymentMethodRegistrationFailure  \\\n",
       "0  (9.999, 18.4]    pending                             True   \n",
       "1   (18.4, 30.0]  fulfilled                             True   \n",
       "2   (39.0, 47.0]  fulfilled                            False   \n",
       "3   (18.4, 30.0]  fulfilled                            False   \n",
       "4   (39.0, 47.0]  fulfilled                            False   \n",
       "\n",
       "  paymentMethodType        paymentMethodProvider     paymentMethodIssuer  \\\n",
       "0              card                 JCB 16 digit    Citizens First Banks   \n",
       "1           bitcoin                VISA 16 digit            Solace Banks   \n",
       "2              card                VISA 16 digit          Vertex Bancorp   \n",
       "3              card  Diners Club / Carte Blanche  His Majesty Bank Corp.   \n",
       "4              card                   Mastercard          Vertex Bancorp   \n",
       "\n",
       "  transactionAmount  transactionFailed  fraudulent emailProvider emailDomain  \\\n",
       "0     (9.999, 21.0]              False           0         yahoo         com   \n",
       "1      (21.0, 34.0]              False           1         yahoo         com   \n",
       "2      (34.0, 45.0]              False           0         yahoo         com   \n",
       "3      (21.0, 34.0]              False           0         yahoo         com   \n",
       "4      (34.0, 45.0]               True           1         other         com   \n",
       "\n",
       "  customerIPAddressSimplified sameCity  \n",
       "0                only_letters      yes  \n",
       "1                only_letters       no  \n",
       "2          digits_and_letters       no  \n",
       "3          digits_and_letters       no  \n",
       "4                only_letters       no  "
      ]
     },
     "execution_count": 31,
     "metadata": {},
     "output_type": "execute_result"
    }
   ],
   "source": [
    "data['fraudulent'] = data['fraudulent'].astype(str)\n",
    "\n",
    "class_map = {'False': 0,\n",
    "             'True': 1,\n",
    "             'warning': 2}\n",
    "\n",
    "data['fraudulent'] = data['fraudulent'].map(class_map)\n",
    "\n",
    "data.head()"
   ]
  },
  {
   "cell_type": "markdown",
   "metadata": {},
   "source": [
    "### 4.2) Tratamiento de datos faltantes"
   ]
  },
  {
   "cell_type": "markdown",
   "metadata": {},
   "source": [
    "Con el parametro 'dropna=False' incluimos los valores NaN en la variable:"
   ]
  },
  {
   "cell_type": "code",
   "execution_count": 33,
   "metadata": {},
   "outputs": [
    {
     "data": {
      "text/plain": [
       "orderAmount\n",
       "NaN              145\n",
       "(30.0, 39.0]      98\n",
       "(39.0, 47.0]      97\n",
       "(9.999, 18.4]     96\n",
       "(18.4, 30.0]      96\n",
       "(47.0, 353.0]     91\n",
       "Name: count, dtype: int64"
      ]
     },
     "execution_count": 33,
     "metadata": {},
     "output_type": "execute_result"
    }
   ],
   "source": [
    "data['orderAmount'].value_counts(dropna=False)"
   ]
  },
  {
   "cell_type": "markdown",
   "metadata": {},
   "source": [
    "Creamos una nueva categoria (ya que 'status' de funpymodeling nos indica que es una variable categorica) que se llamará desconocido, donde agruparemos todos los datos NaN:"
   ]
  },
  {
   "cell_type": "code",
   "execution_count": 34,
   "metadata": {},
   "outputs": [
    {
     "data": {
      "text/plain": [
       "orderAmount\n",
       "desconocido      145\n",
       "(30.0, 39.0]      98\n",
       "(39.0, 47.0]      97\n",
       "(9.999, 18.4]     96\n",
       "(18.4, 30.0]      96\n",
       "(47.0, 353.0]     91\n",
       "Name: count, dtype: int64"
      ]
     },
     "execution_count": 34,
     "metadata": {},
     "output_type": "execute_result"
    }
   ],
   "source": [
    "#Agregamos la categoria a la variable 'orderAmount':\n",
    "data['orderAmount'] = data['orderAmount'].cat.add_categories(\"desconocido\")\n",
    "\n",
    "#Rellenamos los valores nulos con la categoria nueva:\n",
    "data['orderAmount'] = data['orderAmount'].fillna(value=\"desconocido\")\n",
    "\n",
    "#verificamos que los cambios se apliquen correctamente:\n",
    "data['orderAmount'].value_counts(dropna=False)"
   ]
  },
  {
   "cell_type": "markdown",
   "metadata": {},
   "source": [
    "# 5) ONE HOT ENCODING"
   ]
  },
  {
   "cell_type": "markdown",
   "metadata": {},
   "source": [
    "Creamos nuestro dataframe ohe:"
   ]
  },
  {
   "cell_type": "code",
   "execution_count": 35,
   "metadata": {},
   "outputs": [],
   "source": [
    "data_ohe = pd.get_dummies(data)"
   ]
  },
  {
   "cell_type": "markdown",
   "metadata": {},
   "source": [
    "Separamos la variable fraudulent de nuestro dataframe:"
   ]
  },
  {
   "cell_type": "code",
   "execution_count": 37,
   "metadata": {},
   "outputs": [],
   "source": [
    "data_ohe_without_fraudulent = data_ohe.drop(['fraudulent'], axis=1)"
   ]
  },
  {
   "cell_type": "markdown",
   "metadata": {},
   "source": [
    "Guardamos el nombre de las columnas en formato pickle:"
   ]
  },
  {
   "cell_type": "code",
   "execution_count": 39,
   "metadata": {},
   "outputs": [],
   "source": [
    "with open('../data/categories_ohe_without_fraudulent.pickle', 'wb') as handle:\n",
    "    pickle.dump(data_ohe_without_fraudulent.columns, handle, protocol=pickle.HIGHEST_PROTOCOL)"
   ]
  },
  {
   "cell_type": "markdown",
   "metadata": {},
   "source": [
    "# 6) Guardar dataset"
   ]
  },
  {
   "cell_type": "code",
   "execution_count": 40,
   "metadata": {},
   "outputs": [],
   "source": [
    "ruta_y_nombre = \"../data/ohe_customer_dataset.csv\"\n",
    "data_ohe.to_csv(ruta_y_nombre, index=False)"
   ]
  }
 ],
 "metadata": {
  "kernelspec": {
   "display_name": "Python 3",
   "language": "python",
   "name": "python3"
  },
  "language_info": {
   "codemirror_mode": {
    "name": "ipython",
    "version": 3
   },
   "file_extension": ".py",
   "mimetype": "text/x-python",
   "name": "python",
   "nbconvert_exporter": "python",
   "pygments_lexer": "ipython3",
   "version": "3.12.6"
  }
 },
 "nbformat": 4,
 "nbformat_minor": 2
}
